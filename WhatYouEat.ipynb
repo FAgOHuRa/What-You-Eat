{
 "cells": [
  {
   "cell_type": "markdown",
   "metadata": {},
   "source": [
    "# What You Eat\n",
    "\n",
    "O Fast-Food é um tipo de comida produzida em massa, cuja função era vender uma ideia que priorizasse a busca de “velocidade de produção” contra as outras doutrinas da culinária. Este foi criado como uma estratégia comercial, de modo a atrair os centros de populações sem tempo suficiente para esperar pela sua comida em restaurantes normais. Hoje é uma indústria estimada a custar 600 bilhões de euros globalmente.\n",
    "\n",
    "Com isto vem também responsabilidades a nível da saúde pública e, contra a isso decidimos fazer esta análise cuidada dos dados dos valores de nutrientes presentes nos restaurantes mais famosos, tentando introduzir uma visão mais caricata, para interação com os leitores do que têm andado a alimentar-se."
   ]
  },
  {
   "cell_type": "markdown",
   "metadata": {},
   "source": [
    "## Tabela "
   ]
  },
  {
   "cell_type": "code",
   "execution_count": 2,
   "metadata": {
    "scrolled": false
   },
   "outputs": [
    {
     "data": {
      "text/html": [
       "<div>\n",
       "<style scoped>\n",
       "    .dataframe tbody tr th:only-of-type {\n",
       "        vertical-align: middle;\n",
       "    }\n",
       "\n",
       "    .dataframe tbody tr th {\n",
       "        vertical-align: top;\n",
       "    }\n",
       "\n",
       "    .dataframe thead th {\n",
       "        text-align: right;\n",
       "    }\n",
       "</style>\n",
       "<table border=\"1\" class=\"dataframe\">\n",
       "  <thead>\n",
       "    <tr style=\"text-align: right;\">\n",
       "      <th></th>\n",
       "      <th>restaurant</th>\n",
       "      <th>item</th>\n",
       "      <th>calories</th>\n",
       "      <th>cal_fat</th>\n",
       "      <th>total_fat</th>\n",
       "      <th>sat_fat</th>\n",
       "      <th>trans_fat</th>\n",
       "      <th>cholesterol</th>\n",
       "      <th>sodium</th>\n",
       "      <th>total_carb</th>\n",
       "      <th>fiber</th>\n",
       "      <th>sugar</th>\n",
       "      <th>protein</th>\n",
       "      <th>vit_a</th>\n",
       "      <th>vit_c</th>\n",
       "      <th>calcium</th>\n",
       "    </tr>\n",
       "  </thead>\n",
       "  <tbody>\n",
       "    <tr>\n",
       "      <th>0</th>\n",
       "      <td>Mcdonalds</td>\n",
       "      <td>Artisan Grilled Chicken Sandwich</td>\n",
       "      <td>380</td>\n",
       "      <td>60</td>\n",
       "      <td>7</td>\n",
       "      <td>2.0</td>\n",
       "      <td>0.0</td>\n",
       "      <td>95</td>\n",
       "      <td>1110</td>\n",
       "      <td>44</td>\n",
       "      <td>3.0</td>\n",
       "      <td>11</td>\n",
       "      <td>37.0</td>\n",
       "      <td>4.0</td>\n",
       "      <td>20.0</td>\n",
       "      <td>20.0</td>\n",
       "    </tr>\n",
       "    <tr>\n",
       "      <th>1</th>\n",
       "      <td>Mcdonalds</td>\n",
       "      <td>Single Bacon Smokehouse Burger</td>\n",
       "      <td>840</td>\n",
       "      <td>410</td>\n",
       "      <td>45</td>\n",
       "      <td>17.0</td>\n",
       "      <td>1.5</td>\n",
       "      <td>130</td>\n",
       "      <td>1580</td>\n",
       "      <td>62</td>\n",
       "      <td>2.0</td>\n",
       "      <td>18</td>\n",
       "      <td>46.0</td>\n",
       "      <td>6.0</td>\n",
       "      <td>20.0</td>\n",
       "      <td>20.0</td>\n",
       "    </tr>\n",
       "    <tr>\n",
       "      <th>2</th>\n",
       "      <td>Mcdonalds</td>\n",
       "      <td>Double Bacon Smokehouse Burger</td>\n",
       "      <td>1130</td>\n",
       "      <td>600</td>\n",
       "      <td>67</td>\n",
       "      <td>27.0</td>\n",
       "      <td>3.0</td>\n",
       "      <td>220</td>\n",
       "      <td>1920</td>\n",
       "      <td>63</td>\n",
       "      <td>3.0</td>\n",
       "      <td>18</td>\n",
       "      <td>70.0</td>\n",
       "      <td>10.0</td>\n",
       "      <td>20.0</td>\n",
       "      <td>50.0</td>\n",
       "    </tr>\n",
       "    <tr>\n",
       "      <th>3</th>\n",
       "      <td>Mcdonalds</td>\n",
       "      <td>Grilled Bacon Smokehouse Chicken Sandwich</td>\n",
       "      <td>750</td>\n",
       "      <td>280</td>\n",
       "      <td>31</td>\n",
       "      <td>10.0</td>\n",
       "      <td>0.5</td>\n",
       "      <td>155</td>\n",
       "      <td>1940</td>\n",
       "      <td>62</td>\n",
       "      <td>2.0</td>\n",
       "      <td>18</td>\n",
       "      <td>55.0</td>\n",
       "      <td>6.0</td>\n",
       "      <td>25.0</td>\n",
       "      <td>20.0</td>\n",
       "    </tr>\n",
       "    <tr>\n",
       "      <th>4</th>\n",
       "      <td>Mcdonalds</td>\n",
       "      <td>Crispy Bacon Smokehouse Chicken Sandwich</td>\n",
       "      <td>920</td>\n",
       "      <td>410</td>\n",
       "      <td>45</td>\n",
       "      <td>12.0</td>\n",
       "      <td>0.5</td>\n",
       "      <td>120</td>\n",
       "      <td>1980</td>\n",
       "      <td>81</td>\n",
       "      <td>4.0</td>\n",
       "      <td>18</td>\n",
       "      <td>46.0</td>\n",
       "      <td>6.0</td>\n",
       "      <td>20.0</td>\n",
       "      <td>20.0</td>\n",
       "    </tr>\n",
       "  </tbody>\n",
       "</table>\n",
       "</div>"
      ],
      "text/plain": [
       "  restaurant                                       item  calories  cal_fat  \\\n",
       "0  Mcdonalds           Artisan Grilled Chicken Sandwich       380       60   \n",
       "1  Mcdonalds             Single Bacon Smokehouse Burger       840      410   \n",
       "2  Mcdonalds             Double Bacon Smokehouse Burger      1130      600   \n",
       "3  Mcdonalds  Grilled Bacon Smokehouse Chicken Sandwich       750      280   \n",
       "4  Mcdonalds   Crispy Bacon Smokehouse Chicken Sandwich       920      410   \n",
       "\n",
       "   total_fat  sat_fat  trans_fat  cholesterol  sodium  total_carb  fiber  \\\n",
       "0          7      2.0        0.0           95    1110          44    3.0   \n",
       "1         45     17.0        1.5          130    1580          62    2.0   \n",
       "2         67     27.0        3.0          220    1920          63    3.0   \n",
       "3         31     10.0        0.5          155    1940          62    2.0   \n",
       "4         45     12.0        0.5          120    1980          81    4.0   \n",
       "\n",
       "   sugar  protein  vit_a  vit_c  calcium  \n",
       "0     11     37.0    4.0   20.0     20.0  \n",
       "1     18     46.0    6.0   20.0     20.0  \n",
       "2     18     70.0   10.0   20.0     50.0  \n",
       "3     18     55.0    6.0   25.0     20.0  \n",
       "4     18     46.0    6.0   20.0     20.0  "
      ]
     },
     "execution_count": 2,
     "metadata": {},
     "output_type": "execute_result"
    }
   ],
   "source": [
    "import pandas as pd\n",
    "import matplotlib.pyplot as plt\n",
    "\n",
    "#Leitura da tabela em csv\n",
    "ff=pd.read_csv(\"Data/fastfood.csv\", header=0)\n",
    "\n",
    "#5 primeiros registos\n",
    "ff.head()"
   ]
  },
  {
   "cell_type": "markdown",
   "metadata": {},
   "source": [
    "## Tipos de dados"
   ]
  },
  {
   "cell_type": "markdown",
   "metadata": {},
   "source": [
    "Quais os tipos de dados presentes nesta tabela ?"
   ]
  },
  {
   "cell_type": "code",
   "execution_count": 3,
   "metadata": {},
   "outputs": [
    {
     "data": {
      "text/plain": [
       "restaurant      object\n",
       "item            object\n",
       "calories         int64\n",
       "cal_fat          int64\n",
       "total_fat        int64\n",
       "sat_fat        float64\n",
       "trans_fat      float64\n",
       "cholesterol      int64\n",
       "sodium           int64\n",
       "total_carb       int64\n",
       "fiber          float64\n",
       "sugar            int64\n",
       "protein        float64\n",
       "vit_a          float64\n",
       "vit_c          float64\n",
       "calcium        float64\n",
       "dtype: object"
      ]
     },
     "execution_count": 3,
     "metadata": {},
     "output_type": "execute_result"
    }
   ],
   "source": [
    "#\"dtypes\" fornece o tipos de dados pçresentes na tabela\n",
    "ff.dtypes"
   ]
  },
  {
   "cell_type": "markdown",
   "metadata": {},
   "source": [
    "Quantas linhas e colunas tem a tabela analizada ?"
   ]
  },
  {
   "cell_type": "code",
   "execution_count": 4,
   "metadata": {},
   "outputs": [
    {
     "data": {
      "text/plain": [
       "(515, 16)"
      ]
     },
     "execution_count": 4,
     "metadata": {},
     "output_type": "execute_result"
    }
   ],
   "source": [
    "#\"Shape\" Determina o numero de linhas e colunas da tabela\n",
    "ff.shape"
   ]
  },
  {
   "cell_type": "markdown",
   "metadata": {},
   "source": [
    "## Restaurantes"
   ]
  },
  {
   "cell_type": "markdown",
   "metadata": {},
   "source": [
    "Que restaurantes de fastfood existem na tabela analizada ?"
   ]
  },
  {
   "cell_type": "code",
   "execution_count": 5,
   "metadata": {
    "scrolled": true
   },
   "outputs": [
    {
     "data": {
      "text/plain": [
       "array(['Mcdonalds', 'Chick Fil-A', 'Sonic', 'Arbys', 'Burger King',\n",
       "       'Dairy Queen', 'Subway', 'Taco Bell'], dtype=object)"
      ]
     },
     "execution_count": 5,
     "metadata": {},
     "output_type": "execute_result"
    }
   ],
   "source": [
    "#Foi criada uma variável restaurantes cujo vai armazenar os valores de caracter unico presentes na coluna \"restaurant\"\n",
    "#restaurantes = ff['restaurant'].drop_duplicates()\n",
    "restaurantes = ff['restaurant'].unique()\n",
    "restaurantes"
   ]
  },
  {
   "cell_type": "markdown",
   "metadata": {},
   "source": [
    "## Itens"
   ]
  },
  {
   "cell_type": "markdown",
   "metadata": {},
   "source": [
    "Quantos itens existem em cada restaurante ?"
   ]
  },
  {
   "cell_type": "code",
   "execution_count": 6,
   "metadata": {
    "scrolled": true
   },
   "outputs": [
    {
     "data": {
      "text/plain": [
       "Taco Bell      115\n",
       "Subway          96\n",
       "Burger King     70\n",
       "Mcdonalds       57\n",
       "Arbys           55\n",
       "Sonic           53\n",
       "Dairy Queen     42\n",
       "Chick Fil-A     27\n",
       "Name: restaurant, dtype: int64"
      ]
     },
     "execution_count": 6,
     "metadata": {},
     "output_type": "execute_result"
    }
   ],
   "source": [
    "#Esta variavel \"itens\" vai fazer a contagem de itens presentes em cada restaurante através do \"value_counts\"\n",
    "itens = ff[\"restaurant\"].value_counts()\n",
    "itens"
   ]
  },
  {
   "cell_type": "markdown",
   "metadata": {},
   "source": [
    "Quantos itens existem no MCDonalds ?"
   ]
  },
  {
   "cell_type": "code",
   "execution_count": 7,
   "metadata": {},
   "outputs": [
    {
     "name": "stdout",
     "output_type": "stream",
     "text": [
      "Existem 57 items.\n"
     ]
    }
   ],
   "source": [
    "#A variável \"restaurante\" vai armazenar a quantidade de itens existentes no restaurante Mcdonalds\n",
    "macs = itens[\"Mcdonalds\"]\n",
    "print(\"Existem\", macs, \"items.\")"
   ]
  },
  {
   "cell_type": "markdown",
   "metadata": {},
   "source": [
    "Quantos itens existem no Sonic ?"
   ]
  },
  {
   "cell_type": "code",
   "execution_count": 8,
   "metadata": {},
   "outputs": [
    {
     "name": "stdout",
     "output_type": "stream",
     "text": [
      "Existem 53 items.\n"
     ]
    }
   ],
   "source": [
    "#A variável \"sonic\" vai armazenar a quantidade de itens existentes no restaurante Sonic\n",
    "sonic = itens[\"Sonic\"]\n",
    "print(\"Existem\", sonic, \"items.\")"
   ]
  },
  {
   "cell_type": "markdown",
   "metadata": {},
   "source": [
    "## Médias"
   ]
  },
  {
   "cell_type": "markdown",
   "metadata": {},
   "source": [
    "Quais são as estatísticas descritivas referente às calorias de cada restaurante ?\n",
    "(Forma 1)"
   ]
  },
  {
   "cell_type": "code",
   "execution_count": 9,
   "metadata": {},
   "outputs": [
    {
     "data": {
      "text/html": [
       "<div>\n",
       "<style scoped>\n",
       "    .dataframe tbody tr th:only-of-type {\n",
       "        vertical-align: middle;\n",
       "    }\n",
       "\n",
       "    .dataframe tbody tr th {\n",
       "        vertical-align: top;\n",
       "    }\n",
       "\n",
       "    .dataframe thead th {\n",
       "        text-align: right;\n",
       "    }\n",
       "</style>\n",
       "<table border=\"1\" class=\"dataframe\">\n",
       "  <thead>\n",
       "    <tr style=\"text-align: right;\">\n",
       "      <th></th>\n",
       "      <th>count</th>\n",
       "      <th>mean</th>\n",
       "      <th>std</th>\n",
       "      <th>min</th>\n",
       "      <th>25%</th>\n",
       "      <th>50%</th>\n",
       "      <th>75%</th>\n",
       "      <th>max</th>\n",
       "    </tr>\n",
       "    <tr>\n",
       "      <th>restaurant</th>\n",
       "      <th></th>\n",
       "      <th></th>\n",
       "      <th></th>\n",
       "      <th></th>\n",
       "      <th></th>\n",
       "      <th></th>\n",
       "      <th></th>\n",
       "      <th></th>\n",
       "    </tr>\n",
       "  </thead>\n",
       "  <tbody>\n",
       "    <tr>\n",
       "      <th>Arbys</th>\n",
       "      <td>55.0</td>\n",
       "      <td>532.727273</td>\n",
       "      <td>210.338832</td>\n",
       "      <td>70.0</td>\n",
       "      <td>360.0</td>\n",
       "      <td>550.0</td>\n",
       "      <td>690.0</td>\n",
       "      <td>1030.0</td>\n",
       "    </tr>\n",
       "    <tr>\n",
       "      <th>Burger King</th>\n",
       "      <td>70.0</td>\n",
       "      <td>608.571429</td>\n",
       "      <td>290.418417</td>\n",
       "      <td>190.0</td>\n",
       "      <td>365.0</td>\n",
       "      <td>555.0</td>\n",
       "      <td>760.0</td>\n",
       "      <td>1550.0</td>\n",
       "    </tr>\n",
       "    <tr>\n",
       "      <th>Chick Fil-A</th>\n",
       "      <td>27.0</td>\n",
       "      <td>384.444444</td>\n",
       "      <td>220.494782</td>\n",
       "      <td>70.0</td>\n",
       "      <td>220.0</td>\n",
       "      <td>390.0</td>\n",
       "      <td>480.0</td>\n",
       "      <td>970.0</td>\n",
       "    </tr>\n",
       "    <tr>\n",
       "      <th>Dairy Queen</th>\n",
       "      <td>42.0</td>\n",
       "      <td>520.238095</td>\n",
       "      <td>259.337694</td>\n",
       "      <td>20.0</td>\n",
       "      <td>350.0</td>\n",
       "      <td>485.0</td>\n",
       "      <td>630.0</td>\n",
       "      <td>1260.0</td>\n",
       "    </tr>\n",
       "    <tr>\n",
       "      <th>Mcdonalds</th>\n",
       "      <td>57.0</td>\n",
       "      <td>640.350877</td>\n",
       "      <td>410.696120</td>\n",
       "      <td>140.0</td>\n",
       "      <td>380.0</td>\n",
       "      <td>540.0</td>\n",
       "      <td>740.0</td>\n",
       "      <td>2430.0</td>\n",
       "    </tr>\n",
       "    <tr>\n",
       "      <th>Sonic</th>\n",
       "      <td>53.0</td>\n",
       "      <td>631.698113</td>\n",
       "      <td>300.881627</td>\n",
       "      <td>100.0</td>\n",
       "      <td>410.0</td>\n",
       "      <td>570.0</td>\n",
       "      <td>740.0</td>\n",
       "      <td>1350.0</td>\n",
       "    </tr>\n",
       "    <tr>\n",
       "      <th>Subway</th>\n",
       "      <td>96.0</td>\n",
       "      <td>503.020833</td>\n",
       "      <td>282.220965</td>\n",
       "      <td>50.0</td>\n",
       "      <td>287.5</td>\n",
       "      <td>460.0</td>\n",
       "      <td>740.0</td>\n",
       "      <td>1160.0</td>\n",
       "    </tr>\n",
       "    <tr>\n",
       "      <th>Taco Bell</th>\n",
       "      <td>115.0</td>\n",
       "      <td>443.652174</td>\n",
       "      <td>184.344883</td>\n",
       "      <td>140.0</td>\n",
       "      <td>320.0</td>\n",
       "      <td>420.0</td>\n",
       "      <td>575.0</td>\n",
       "      <td>880.0</td>\n",
       "    </tr>\n",
       "  </tbody>\n",
       "</table>\n",
       "</div>"
      ],
      "text/plain": [
       "             count        mean         std    min    25%    50%    75%     max\n",
       "restaurant                                                                    \n",
       "Arbys         55.0  532.727273  210.338832   70.0  360.0  550.0  690.0  1030.0\n",
       "Burger King   70.0  608.571429  290.418417  190.0  365.0  555.0  760.0  1550.0\n",
       "Chick Fil-A   27.0  384.444444  220.494782   70.0  220.0  390.0  480.0   970.0\n",
       "Dairy Queen   42.0  520.238095  259.337694   20.0  350.0  485.0  630.0  1260.0\n",
       "Mcdonalds     57.0  640.350877  410.696120  140.0  380.0  540.0  740.0  2430.0\n",
       "Sonic         53.0  631.698113  300.881627  100.0  410.0  570.0  740.0  1350.0\n",
       "Subway        96.0  503.020833  282.220965   50.0  287.5  460.0  740.0  1160.0\n",
       "Taco Bell    115.0  443.652174  184.344883  140.0  320.0  420.0  575.0   880.0"
      ]
     },
     "execution_count": 9,
     "metadata": {},
     "output_type": "execute_result"
    }
   ],
   "source": [
    "#A variável \"res\" vai armazenar as estatísticas descritivas agrupadas pela coluna restaurante\n",
    "res = ff.groupby([\"restaurant\"])\n",
    "res[\"calories\"].describe()"
   ]
  },
  {
   "cell_type": "markdown",
   "metadata": {},
   "source": [
    "Quais são às estatísticas descritivas referente às calorias presentes na gordura de cada restaurante ?"
   ]
  },
  {
   "cell_type": "code",
   "execution_count": 10,
   "metadata": {},
   "outputs": [
    {
     "data": {
      "text/html": [
       "<div>\n",
       "<style scoped>\n",
       "    .dataframe tbody tr th:only-of-type {\n",
       "        vertical-align: middle;\n",
       "    }\n",
       "\n",
       "    .dataframe tbody tr th {\n",
       "        vertical-align: top;\n",
       "    }\n",
       "\n",
       "    .dataframe thead th {\n",
       "        text-align: right;\n",
       "    }\n",
       "</style>\n",
       "<table border=\"1\" class=\"dataframe\">\n",
       "  <thead>\n",
       "    <tr style=\"text-align: right;\">\n",
       "      <th></th>\n",
       "      <th>count</th>\n",
       "      <th>mean</th>\n",
       "      <th>std</th>\n",
       "      <th>min</th>\n",
       "      <th>25%</th>\n",
       "      <th>50%</th>\n",
       "      <th>75%</th>\n",
       "      <th>max</th>\n",
       "    </tr>\n",
       "    <tr>\n",
       "      <th>restaurant</th>\n",
       "      <th></th>\n",
       "      <th></th>\n",
       "      <th></th>\n",
       "      <th></th>\n",
       "      <th></th>\n",
       "      <th></th>\n",
       "      <th></th>\n",
       "      <th></th>\n",
       "    </tr>\n",
       "  </thead>\n",
       "  <tbody>\n",
       "    <tr>\n",
       "      <th>Arbys</th>\n",
       "      <td>55.0</td>\n",
       "      <td>237.836364</td>\n",
       "      <td>113.169614</td>\n",
       "      <td>45.0</td>\n",
       "      <td>135.00</td>\n",
       "      <td>250.0</td>\n",
       "      <td>310.0</td>\n",
       "      <td>495.0</td>\n",
       "    </tr>\n",
       "    <tr>\n",
       "      <th>Burger King</th>\n",
       "      <td>70.0</td>\n",
       "      <td>333.757143</td>\n",
       "      <td>194.499390</td>\n",
       "      <td>90.0</td>\n",
       "      <td>172.50</td>\n",
       "      <td>285.0</td>\n",
       "      <td>431.5</td>\n",
       "      <td>1134.0</td>\n",
       "    </tr>\n",
       "    <tr>\n",
       "      <th>Chick Fil-A</th>\n",
       "      <td>27.0</td>\n",
       "      <td>145.370370</td>\n",
       "      <td>102.357273</td>\n",
       "      <td>18.0</td>\n",
       "      <td>67.50</td>\n",
       "      <td>126.0</td>\n",
       "      <td>171.0</td>\n",
       "      <td>423.0</td>\n",
       "    </tr>\n",
       "    <tr>\n",
       "      <th>Dairy Queen</th>\n",
       "      <td>42.0</td>\n",
       "      <td>260.476190</td>\n",
       "      <td>156.485055</td>\n",
       "      <td>0.0</td>\n",
       "      <td>160.00</td>\n",
       "      <td>220.0</td>\n",
       "      <td>310.0</td>\n",
       "      <td>670.0</td>\n",
       "    </tr>\n",
       "    <tr>\n",
       "      <th>Mcdonalds</th>\n",
       "      <td>57.0</td>\n",
       "      <td>285.614035</td>\n",
       "      <td>220.899278</td>\n",
       "      <td>50.0</td>\n",
       "      <td>160.00</td>\n",
       "      <td>240.0</td>\n",
       "      <td>320.0</td>\n",
       "      <td>1270.0</td>\n",
       "    </tr>\n",
       "    <tr>\n",
       "      <th>Sonic</th>\n",
       "      <td>53.0</td>\n",
       "      <td>338.301887</td>\n",
       "      <td>197.140479</td>\n",
       "      <td>100.0</td>\n",
       "      <td>180.00</td>\n",
       "      <td>290.0</td>\n",
       "      <td>430.0</td>\n",
       "      <td>900.0</td>\n",
       "    </tr>\n",
       "    <tr>\n",
       "      <th>Subway</th>\n",
       "      <td>96.0</td>\n",
       "      <td>165.104167</td>\n",
       "      <td>134.835141</td>\n",
       "      <td>10.0</td>\n",
       "      <td>48.75</td>\n",
       "      <td>137.5</td>\n",
       "      <td>242.5</td>\n",
       "      <td>620.0</td>\n",
       "    </tr>\n",
       "    <tr>\n",
       "      <th>Taco Bell</th>\n",
       "      <td>115.0</td>\n",
       "      <td>188.000000</td>\n",
       "      <td>84.810935</td>\n",
       "      <td>35.0</td>\n",
       "      <td>120.00</td>\n",
       "      <td>180.0</td>\n",
       "      <td>250.0</td>\n",
       "      <td>380.0</td>\n",
       "    </tr>\n",
       "  </tbody>\n",
       "</table>\n",
       "</div>"
      ],
      "text/plain": [
       "             count        mean         std    min     25%    50%    75%  \\\n",
       "restaurant                                                                \n",
       "Arbys         55.0  237.836364  113.169614   45.0  135.00  250.0  310.0   \n",
       "Burger King   70.0  333.757143  194.499390   90.0  172.50  285.0  431.5   \n",
       "Chick Fil-A   27.0  145.370370  102.357273   18.0   67.50  126.0  171.0   \n",
       "Dairy Queen   42.0  260.476190  156.485055    0.0  160.00  220.0  310.0   \n",
       "Mcdonalds     57.0  285.614035  220.899278   50.0  160.00  240.0  320.0   \n",
       "Sonic         53.0  338.301887  197.140479  100.0  180.00  290.0  430.0   \n",
       "Subway        96.0  165.104167  134.835141   10.0   48.75  137.5  242.5   \n",
       "Taco Bell    115.0  188.000000   84.810935   35.0  120.00  180.0  250.0   \n",
       "\n",
       "                max  \n",
       "restaurant           \n",
       "Arbys         495.0  \n",
       "Burger King  1134.0  \n",
       "Chick Fil-A   423.0  \n",
       "Dairy Queen   670.0  \n",
       "Mcdonalds    1270.0  \n",
       "Sonic         900.0  \n",
       "Subway        620.0  \n",
       "Taco Bell     380.0  "
      ]
     },
     "execution_count": 10,
     "metadata": {},
     "output_type": "execute_result"
    }
   ],
   "source": [
    "#A variável \"rescarb\" vai armazenar as estatísticas descritivas estatísticas descritivas, \n",
    "#referente às calorias presentes na gordura de cada restaurante\n",
    "rescarb = ff.groupby([\"restaurant\"])\n",
    "rescarb[\"cal_fat\"].describe()"
   ]
  },
  {
   "cell_type": "markdown",
   "metadata": {},
   "source": [
    "Quais são as médias caloricas de cada restaurante ?"
   ]
  },
  {
   "cell_type": "code",
   "execution_count": 11,
   "metadata": {},
   "outputs": [
    {
     "data": {
      "text/html": [
       "<div>\n",
       "<style scoped>\n",
       "    .dataframe tbody tr th:only-of-type {\n",
       "        vertical-align: middle;\n",
       "    }\n",
       "\n",
       "    .dataframe tbody tr th {\n",
       "        vertical-align: top;\n",
       "    }\n",
       "\n",
       "    .dataframe thead th {\n",
       "        text-align: right;\n",
       "    }\n",
       "</style>\n",
       "<table border=\"1\" class=\"dataframe\">\n",
       "  <thead>\n",
       "    <tr style=\"text-align: right;\">\n",
       "      <th></th>\n",
       "      <th>calories</th>\n",
       "      <th>cal_fat</th>\n",
       "    </tr>\n",
       "    <tr>\n",
       "      <th>restaurant</th>\n",
       "      <th></th>\n",
       "      <th></th>\n",
       "    </tr>\n",
       "  </thead>\n",
       "  <tbody>\n",
       "    <tr>\n",
       "      <th>Arbys</th>\n",
       "      <td>532.727273</td>\n",
       "      <td>237.836364</td>\n",
       "    </tr>\n",
       "    <tr>\n",
       "      <th>Burger King</th>\n",
       "      <td>608.571429</td>\n",
       "      <td>333.757143</td>\n",
       "    </tr>\n",
       "    <tr>\n",
       "      <th>Chick Fil-A</th>\n",
       "      <td>384.444444</td>\n",
       "      <td>145.370370</td>\n",
       "    </tr>\n",
       "    <tr>\n",
       "      <th>Dairy Queen</th>\n",
       "      <td>520.238095</td>\n",
       "      <td>260.476190</td>\n",
       "    </tr>\n",
       "    <tr>\n",
       "      <th>Mcdonalds</th>\n",
       "      <td>640.350877</td>\n",
       "      <td>285.614035</td>\n",
       "    </tr>\n",
       "    <tr>\n",
       "      <th>Sonic</th>\n",
       "      <td>631.698113</td>\n",
       "      <td>338.301887</td>\n",
       "    </tr>\n",
       "    <tr>\n",
       "      <th>Subway</th>\n",
       "      <td>503.020833</td>\n",
       "      <td>165.104167</td>\n",
       "    </tr>\n",
       "    <tr>\n",
       "      <th>Taco Bell</th>\n",
       "      <td>443.652174</td>\n",
       "      <td>188.000000</td>\n",
       "    </tr>\n",
       "  </tbody>\n",
       "</table>\n",
       "</div>"
      ],
      "text/plain": [
       "               calories     cal_fat\n",
       "restaurant                         \n",
       "Arbys        532.727273  237.836364\n",
       "Burger King  608.571429  333.757143\n",
       "Chick Fil-A  384.444444  145.370370\n",
       "Dairy Queen  520.238095  260.476190\n",
       "Mcdonalds    640.350877  285.614035\n",
       "Sonic        631.698113  338.301887\n",
       "Subway       503.020833  165.104167\n",
       "Taco Bell    443.652174  188.000000"
      ]
     },
     "execution_count": 11,
     "metadata": {},
     "output_type": "execute_result"
    }
   ],
   "source": [
    "#A variável \"rescalcarb\" vai armazenar a média de todas as colunas de cada restaurante\n",
    "#A variável \"rescalcarb_final\" vai armazenar a média de cada restaurante referente ás colunas das \"calories\" e \"cal_fat\"\n",
    "rescalcarb = ff.groupby([\"restaurant\"]).mean()\n",
    "rescalcarb_final = rescalcarb[[\"calories\", \"cal_fat\"]]\n",
    "rescalcarb_final"
   ]
  },
  {
   "cell_type": "markdown",
   "metadata": {},
   "source": [
    "Quais são as médias calóricas refentes ao restaurante McDonalds ?"
   ]
  },
  {
   "cell_type": "code",
   "execution_count": 12,
   "metadata": {},
   "outputs": [
    {
     "data": {
      "text/plain": [
       "calories    640.350877\n",
       "cal_fat     285.614035\n",
       "Name: Mcdonalds, dtype: float64"
      ]
     },
     "execution_count": 12,
     "metadata": {},
     "output_type": "execute_result"
    }
   ],
   "source": [
    "#A variável mac_calorias vai mostrar as \"calories\" e as \"cal_fat\" referente à tabela anterior\n",
    "mac_calorias = rescalcarb.loc[\"Mcdonalds\", [\"calories\",\"cal_fat\"]]\n",
    "mac_calorias"
   ]
  },
  {
   "cell_type": "markdown",
   "metadata": {},
   "source": [
    "Qual é a representação gráfica referente aos dados fornecidos anteriormente ?"
   ]
  },
  {
   "cell_type": "code",
   "execution_count": 13,
   "metadata": {},
   "outputs": [
    {
     "data": {
      "text/plain": [
       "<AxesSubplot:xlabel='restaurant'>"
      ]
     },
     "execution_count": 13,
     "metadata": {},
     "output_type": "execute_result"
    },
    {
     "data": {
      "image/png": "[encoded data removed]",
      "text/plain": [
       "<Figure size 432x288 with 1 Axes>"
      ]
     },
     "metadata": {
      "needs_background": "light"
     },
     "output_type": "display_data"
    }
   ],
   "source": [
    "#Gráfico de dados referente à variável \"rescalcarb_final\"\n",
    "rescalcarb_final.plot.area(stacked=False)"
   ]
  },
  {
   "cell_type": "markdown",
   "metadata": {},
   "source": [
    "Quais são as medias calóricas de cada restaurante ? (Forma2)"
   ]
  },
  {
   "cell_type": "code",
   "execution_count": 14,
   "metadata": {},
   "outputs": [
    {
     "name": "stdout",
     "output_type": "stream",
     "text": [
      "McDonald's\n",
      "-\n",
      "Média(Calorias): 640.3508771929825\n",
      "Média(Colesterol): 285.6140350877193\n",
      "\n",
      "Chick Fil-A\n",
      "-\n",
      "Média(Calorias): 384.44444444444446\n",
      "Média(Colesterol): 145.37037037037038\n",
      "\n",
      "Sonic\n",
      "-\n",
      "Média(Calorias): 631.6981132075472\n",
      "Média(Colesterol): 338.3018867924528\n",
      "\n",
      "Arbys\n",
      "-\n",
      "Média(Calorias): 532.7272727272727\n",
      "Média(Colesterol): 237.83636363636364\n",
      "\n",
      "Burger King\n",
      "-\n",
      "Média(Calorias): 608.5714285714286\n",
      "Média(Colesterol): 333.75714285714287\n",
      "\n",
      "Dairy Queen\n",
      "-\n",
      "Média(Calorias): 520.2380952380952\n",
      "Média(Colesterol): 260.4761904761905\n",
      "\n",
      "Subway\n",
      "-\n",
      "Média(Calorias): 503.0208333333333\n",
      "Média(Colesterol): 165.10416666666666\n",
      "\n",
      "Taco Bell\n",
      "-\n",
      "Média(Calorias): 443.6521739130435\n",
      "Média(Colesterol): 188.0\n"
     ]
    }
   ],
   "source": [
    "#Variáveis que contêm as medias das \"calories\" de cada restaurante\n",
    "mc = ff.loc[0:56, \"calories\"].mean()\n",
    "cfa = ff.loc[57:83, \"calories\"].mean()\n",
    "sonic = ff.loc[84:136, \"calories\"].mean()\n",
    "arbys = ff.loc[137:191, \"calories\"].mean()\n",
    "bk = ff.loc[192:261, \"calories\"].mean()\n",
    "dq = ff.loc[262:303, \"calories\"].mean()\n",
    "subway = ff.loc[304:399, \"calories\"].mean()\n",
    "tb = ff.loc[400:515, \"calories\"].mean()\n",
    "\n",
    "#Variáveis que contêm as medias de \"cal_fat\" de cada restaurante\n",
    "mc1 = ff.loc[0:56, \"cal_fat\"].mean()\n",
    "cfa1 = ff.loc[57:83, \"cal_fat\"].mean()\n",
    "sonic1 = ff.loc[84:136, \"cal_fat\"].mean()\n",
    "arbys1 = ff.loc[137:191, \"cal_fat\"].mean()\n",
    "bk1 = ff.loc[192:261, \"cal_fat\"].mean()\n",
    "dq1 = ff.loc[262:303, \"cal_fat\"].mean()\n",
    "subway1 = ff.loc[304:399, \"cal_fat\"].mean()\n",
    "tb1 = ff.loc[400:515, \"cal_fat\"].mean()\n",
    "\n",
    "#Mostragem dos resultados\n",
    "print(\"McDonald's\")\n",
    "print(\"-\")\n",
    "print(\"Média(Calorias):\", mc)\n",
    "print(\"Média(Colesterol):\", mc1)\n",
    "print(\"\\nChick Fil-A\")\n",
    "print(\"-\")\n",
    "print(\"Média(Calorias):\", cfa)\n",
    "print(\"Média(Colesterol):\", cfa1)\n",
    "print(\"\\nSonic\")\n",
    "print(\"-\")\n",
    "print(\"Média(Calorias):\", sonic)\n",
    "print(\"Média(Colesterol):\", sonic1)\n",
    "print(\"\\nArbys\")\n",
    "print(\"-\")\n",
    "print(\"Média(Calorias):\", arbys)\n",
    "print(\"Média(Colesterol):\", arbys1)\n",
    "print(\"\\nBurger King\")\n",
    "print(\"-\")\n",
    "print(\"Média(Calorias):\", bk)\n",
    "print(\"Média(Colesterol):\", bk1)\n",
    "print(\"\\nDairy Queen\")\n",
    "print(\"-\")\n",
    "print(\"Média(Calorias):\", dq)\n",
    "print(\"Média(Colesterol):\", dq1)\n",
    "print(\"\\nSubway\")\n",
    "print(\"-\")\n",
    "print(\"Média(Calorias):\", subway)\n",
    "print(\"Média(Colesterol):\", subway1)\n",
    "print(\"\\nTaco Bell\")\n",
    "print(\"-\")\n",
    "print(\"Média(Calorias):\", tb)\n",
    "print(\"Média(Colesterol):\", tb1)"
   ]
  },
  {
   "cell_type": "markdown",
   "metadata": {},
   "source": [
    "## Gym Aproved"
   ]
  },
  {
   "cell_type": "markdown",
   "metadata": {},
   "source": [
    "Quais são os itens que contêm mais proteína ?"
   ]
  },
  {
   "cell_type": "code",
   "execution_count": 15,
   "metadata": {},
   "outputs": [
    {
     "data": {
      "text/plain": [
       "restaurant      \n",
       "Arbys        175     62.0\n",
       "Burger King  192    134.0\n",
       "Chick Fil-A  69     103.0\n",
       "Dairy Queen  270     49.0\n",
       "Mcdonalds    39     186.0\n",
       "Sonic        98      67.0\n",
       "Subway       326     78.0\n",
       "Taco Bell    431     37.0\n",
       "Name: protein, dtype: float64"
      ]
     },
     "execution_count": 15,
     "metadata": {},
     "output_type": "execute_result"
    }
   ],
   "source": [
    "#A variável \"res1\" vai mostrar o maior valor referente às proteinas de cada restaurante\n",
    "res1 = ff.groupby([\"restaurant\"])\n",
    "res1[\"protein\"].nlargest(1)"
   ]
  },
  {
   "cell_type": "markdown",
   "metadata": {},
   "source": [
    "## Call and Ambulance!"
   ]
  },
  {
   "cell_type": "markdown",
   "metadata": {},
   "source": [
    "Quais são os itens que contêm mais colesterol ?"
   ]
  },
  {
   "cell_type": "code",
   "execution_count": 16,
   "metadata": {},
   "outputs": [
    {
     "data": {
      "text/plain": [
       "restaurant      \n",
       "Arbys        175    155\n",
       "Burger King  192    805\n",
       "Chick Fil-A  69     285\n",
       "Dairy Queen  280    180\n",
       "Mcdonalds    39     475\n",
       "Sonic        98     260\n",
       "Subway       320    190\n",
       "Taco Bell    431     85\n",
       "Name: cholesterol, dtype: int64"
      ]
     },
     "execution_count": 16,
     "metadata": {},
     "output_type": "execute_result"
    }
   ],
   "source": [
    "#A variável \"res2\" vai mostrar o maior valor referente ao colesterol de cada restaurante\n",
    "res2 = ff.groupby([\"restaurant\"])\n",
    "res2[\"cholesterol\"].nlargest(1)"
   ]
  },
  {
   "cell_type": "markdown",
   "metadata": {},
   "source": [
    "# Burger Wars"
   ]
  },
  {
   "cell_type": "markdown",
   "metadata": {},
   "source": [
    "- Esta categoria define uma disputa caricata entre os dois grandes rivais dos restaurantes de Fast Food."
   ]
  },
  {
   "cell_type": "markdown",
   "metadata": {},
   "source": [
    "## McDonald's"
   ]
  },
  {
   "cell_type": "markdown",
   "metadata": {},
   "source": [
    "Qual é o gráfico de dados referente ao total de gorduras no McDonalds ?"
   ]
  },
  {
   "cell_type": "code",
   "execution_count": 17,
   "metadata": {},
   "outputs": [
    {
     "data": {
      "text/plain": [
       "<AxesSubplot:>"
      ]
     },
     "execution_count": 17,
     "metadata": {},
     "output_type": "execute_result"
    },
    {
     "data": {
      "image/png": "[encoded data removed]",
      "text/plain": [
       "<Figure size 432x288 with 1 Axes>"
      ]
     },
     "metadata": {
      "needs_background": "light"
     },
     "output_type": "display_data"
    }
   ],
   "source": [
    "#A variável \"mc\" vai mostrar o maior o gráfico de dados referente ao total de gorduras no McDonalds\n",
    "res2 = ff.groupby([\"restaurant\"])\n",
    "mc = ff.loc[0:56, [\"total_fat\"]]\n",
    "mc.plot()"
   ]
  },
  {
   "cell_type": "markdown",
   "metadata": {},
   "source": [
    "## Burger King"
   ]
  },
  {
   "cell_type": "markdown",
   "metadata": {},
   "source": [
    "Qual é o gráfico de dados referente ao total de gorduras no Burger King ?"
   ]
  },
  {
   "cell_type": "code",
   "execution_count": 18,
   "metadata": {},
   "outputs": [
    {
     "data": {
      "text/plain": [
       "<AxesSubplot:>"
      ]
     },
     "execution_count": 18,
     "metadata": {},
     "output_type": "execute_result"
    },
    {
     "data": {
      "image/png": "[encoded data removed]",
      "text/plain": [
       "<Figure size 432x288 with 1 Axes>"
      ]
     },
     "metadata": {
      "needs_background": "light"
     },
     "output_type": "display_data"
    }
   ],
   "source": [
    "#A variável \"bk\" vai mostrar o maior o gráfico de dados referente ao total de gorduras no Burger King\n",
    "bk = ff.loc[192:261, [\"total_fat\"]]\n",
    "bk.plot()"
   ]
  },
  {
   "cell_type": "markdown",
   "metadata": {},
   "source": [
    "## Mcdonalds VS Burger King"
   ]
  },
  {
   "cell_type": "markdown",
   "metadata": {},
   "source": [
    "Qual é o gráfico de quartis referente ao total de gorduras no McDonalds e Burger King?"
   ]
  },
  {
   "cell_type": "code",
   "execution_count": 19,
   "metadata": {},
   "outputs": [
    {
     "data": {
      "text/plain": [
       "<AxesSubplot:>"
      ]
     },
     "execution_count": 19,
     "metadata": {},
     "output_type": "execute_result"
    },
    {
     "data": {
      "image/png": "[encoded data removed]",
      "text/plain": [
       "<Figure size 432x288 with 1 Axes>"
      ]
     },
     "metadata": {
      "needs_background": "light"
     },
     "output_type": "display_data"
    }
   ],
   "source": [
    "#A variável \"juncao\" vai mostrar o maior o gráfico de quartis referente ao Burger King e McDonalds\n",
    "juncao = pd.concat([mc, bk])\n",
    "juncao.plot.box()"
   ]
  },
  {
   "cell_type": "markdown",
   "metadata": {},
   "source": [
    "## Calorias Excessivas McDonalds"
   ]
  },
  {
   "cell_type": "markdown",
   "metadata": {},
   "source": [
    "Quais são os itens que contêm valores de gordura a cima dos 45 no McDonalds?"
   ]
  },
  {
   "cell_type": "code",
   "execution_count": 20,
   "metadata": {},
   "outputs": [
    {
     "data": {
      "text/html": [
       "<div>\n",
       "<style scoped>\n",
       "    .dataframe tbody tr th:only-of-type {\n",
       "        vertical-align: middle;\n",
       "    }\n",
       "\n",
       "    .dataframe tbody tr th {\n",
       "        vertical-align: top;\n",
       "    }\n",
       "\n",
       "    .dataframe thead th {\n",
       "        text-align: right;\n",
       "    }\n",
       "</style>\n",
       "<table border=\"1\" class=\"dataframe\">\n",
       "  <thead>\n",
       "    <tr style=\"text-align: right;\">\n",
       "      <th></th>\n",
       "      <th>restaurant</th>\n",
       "      <th>item</th>\n",
       "      <th>total_fat</th>\n",
       "    </tr>\n",
       "  </thead>\n",
       "  <tbody>\n",
       "    <tr>\n",
       "      <th>2</th>\n",
       "      <td>Mcdonalds</td>\n",
       "      <td>Double Bacon Smokehouse Burger</td>\n",
       "      <td>67</td>\n",
       "    </tr>\n",
       "    <tr>\n",
       "      <th>37</th>\n",
       "      <td>Mcdonalds</td>\n",
       "      <td>10 piece Buttermilk Crispy Chicken Tenders</td>\n",
       "      <td>70</td>\n",
       "    </tr>\n",
       "    <tr>\n",
       "      <th>38</th>\n",
       "      <td>Mcdonalds</td>\n",
       "      <td>12 piece Buttermilk Crispy Chicken Tenders</td>\n",
       "      <td>88</td>\n",
       "    </tr>\n",
       "    <tr>\n",
       "      <th>39</th>\n",
       "      <td>Mcdonalds</td>\n",
       "      <td>20 piece Buttermilk Crispy Chicken Tenders</td>\n",
       "      <td>141</td>\n",
       "    </tr>\n",
       "    <tr>\n",
       "      <th>43</th>\n",
       "      <td>Mcdonalds</td>\n",
       "      <td>20 Piece Chicken McNuggets</td>\n",
       "      <td>53</td>\n",
       "    </tr>\n",
       "    <tr>\n",
       "      <th>44</th>\n",
       "      <td>Mcdonalds</td>\n",
       "      <td>40 piece Chicken McNuggets</td>\n",
       "      <td>107</td>\n",
       "    </tr>\n",
       "    <tr>\n",
       "      <th>47</th>\n",
       "      <td>Mcdonalds</td>\n",
       "      <td>10 piece Sweet N' Spicy Honey BBQ Glazed Tenders</td>\n",
       "      <td>66</td>\n",
       "    </tr>\n",
       "  </tbody>\n",
       "</table>\n",
       "</div>"
      ],
      "text/plain": [
       "   restaurant                                              item  total_fat\n",
       "2   Mcdonalds                    Double Bacon Smokehouse Burger         67\n",
       "37  Mcdonalds        10 piece Buttermilk Crispy Chicken Tenders         70\n",
       "38  Mcdonalds        12 piece Buttermilk Crispy Chicken Tenders         88\n",
       "39  Mcdonalds        20 piece Buttermilk Crispy Chicken Tenders        141\n",
       "43  Mcdonalds                        20 Piece Chicken McNuggets         53\n",
       "44  Mcdonalds                        40 piece Chicken McNuggets        107\n",
       "47  Mcdonalds  10 piece Sweet N' Spicy Honey BBQ Glazed Tenders         66"
      ]
     },
     "execution_count": 20,
     "metadata": {},
     "output_type": "execute_result"
    }
   ],
   "source": [
    "##A variavel \"ResCal1\" vai mostrar os hamburguers que contêm contêm valores de \"total_fat\" a cima dos 45 no McDonalds\n",
    "ff.drop(ff[ff['total_fat'] <= 45].index, inplace=True)\n",
    "ResCal = ff.loc[0:56, [\"restaurant\", \"item\", \"total_fat\"]]\n",
    "ResCal"
   ]
  },
  {
   "cell_type": "markdown",
   "metadata": {},
   "source": [
    "Quais são os top (5) itens que contem valores de gordura no McDonalds? "
   ]
  },
  {
   "cell_type": "code",
   "execution_count": 21,
   "metadata": {},
   "outputs": [
    {
     "data": {
      "text/plain": [
       "39    141\n",
       "44    107\n",
       "38     88\n",
       "37     70\n",
       "2      67\n",
       "Name: total_fat, dtype: int64"
      ]
     },
     "execution_count": 21,
     "metadata": {},
     "output_type": "execute_result"
    }
   ],
   "source": [
    "#A variavel \"top\" vai mostrar os top 5 hamburguers que contêm mais \"total_fat\" no McDonalds\n",
    "res3 = ff.groupby([\"restaurant\"])\n",
    "top = res3[\"total_fat\"].nlargest(5)\n",
    "top[\"Mcdonalds\"]"
   ]
  },
  {
   "cell_type": "markdown",
   "metadata": {},
   "source": [
    "## Calorias Excessivas Burguer King"
   ]
  },
  {
   "cell_type": "markdown",
   "metadata": {},
   "source": [
    "Quais são os itens que contêm valores de gordura a cima dos 45 no Burger king?"
   ]
  },
  {
   "cell_type": "code",
   "execution_count": 22,
   "metadata": {},
   "outputs": [
    {
     "data": {
      "text/html": [
       "<div>\n",
       "<style scoped>\n",
       "    .dataframe tbody tr th:only-of-type {\n",
       "        vertical-align: middle;\n",
       "    }\n",
       "\n",
       "    .dataframe tbody tr th {\n",
       "        vertical-align: top;\n",
       "    }\n",
       "\n",
       "    .dataframe thead th {\n",
       "        text-align: right;\n",
       "    }\n",
       "</style>\n",
       "<table border=\"1\" class=\"dataframe\">\n",
       "  <thead>\n",
       "    <tr style=\"text-align: right;\">\n",
       "      <th></th>\n",
       "      <th>restaurant</th>\n",
       "      <th>item</th>\n",
       "      <th>total_fat</th>\n",
       "    </tr>\n",
       "  </thead>\n",
       "  <tbody>\n",
       "    <tr>\n",
       "      <th>192</th>\n",
       "      <td>Burger King</td>\n",
       "      <td>American Brewhouse King</td>\n",
       "      <td>126</td>\n",
       "    </tr>\n",
       "    <tr>\n",
       "      <th>193</th>\n",
       "      <td>Burger King</td>\n",
       "      <td>Bacon &amp; Swiss Sourdough King</td>\n",
       "      <td>65</td>\n",
       "    </tr>\n",
       "    <tr>\n",
       "      <th>198</th>\n",
       "      <td>Burger King</td>\n",
       "      <td>BBQ Bacon King</td>\n",
       "      <td>75</td>\n",
       "    </tr>\n",
       "    <tr>\n",
       "      <th>203</th>\n",
       "      <td>Burger King</td>\n",
       "      <td>Double Quarter Pound King</td>\n",
       "      <td>54</td>\n",
       "    </tr>\n",
       "    <tr>\n",
       "      <th>205</th>\n",
       "      <td>Burger King</td>\n",
       "      <td>Farmhouse King</td>\n",
       "      <td>80</td>\n",
       "    </tr>\n",
       "    <tr>\n",
       "      <th>208</th>\n",
       "      <td>Burger King</td>\n",
       "      <td>Jalapeno King Sandwich</td>\n",
       "      <td>65</td>\n",
       "    </tr>\n",
       "    <tr>\n",
       "      <th>209</th>\n",
       "      <td>Burger King</td>\n",
       "      <td>Mushroom &amp; Swiss King</td>\n",
       "      <td>63</td>\n",
       "    </tr>\n",
       "    <tr>\n",
       "      <th>211</th>\n",
       "      <td>Burger King</td>\n",
       "      <td>Rodeo King</td>\n",
       "      <td>82</td>\n",
       "    </tr>\n",
       "    <tr>\n",
       "      <th>213</th>\n",
       "      <td>Burger King</td>\n",
       "      <td>Sourdough King Double</td>\n",
       "      <td>61</td>\n",
       "    </tr>\n",
       "    <tr>\n",
       "      <th>214</th>\n",
       "      <td>Burger King</td>\n",
       "      <td>Steakhouse King</td>\n",
       "      <td>74</td>\n",
       "    </tr>\n",
       "    <tr>\n",
       "      <th>216</th>\n",
       "      <td>Burger King</td>\n",
       "      <td>DOUBLE WHOPPER w/o Cheese</td>\n",
       "      <td>57</td>\n",
       "    </tr>\n",
       "    <tr>\n",
       "      <th>217</th>\n",
       "      <td>Burger King</td>\n",
       "      <td>DOUBLE WHOPPER w/ Cheese</td>\n",
       "      <td>65</td>\n",
       "    </tr>\n",
       "    <tr>\n",
       "      <th>223</th>\n",
       "      <td>Burger King</td>\n",
       "      <td>Bacon Cheddar Ranch Chicken Salad w/ crispy Ch...</td>\n",
       "      <td>50</td>\n",
       "    </tr>\n",
       "    <tr>\n",
       "      <th>234</th>\n",
       "      <td>Burger King</td>\n",
       "      <td>Bacon Cheddar Ranch Crispy Chicken Sandwich</td>\n",
       "      <td>52</td>\n",
       "    </tr>\n",
       "    <tr>\n",
       "      <th>243</th>\n",
       "      <td>Burger King</td>\n",
       "      <td>20 Piece Chicken Nuggets</td>\n",
       "      <td>55</td>\n",
       "    </tr>\n",
       "    <tr>\n",
       "      <th>256</th>\n",
       "      <td>Burger King</td>\n",
       "      <td>Sourdough Chicken Club</td>\n",
       "      <td>51</td>\n",
       "    </tr>\n",
       "  </tbody>\n",
       "</table>\n",
       "</div>"
      ],
      "text/plain": [
       "      restaurant                                               item  total_fat\n",
       "192  Burger King                            American Brewhouse King        126\n",
       "193  Burger King                       Bacon & Swiss Sourdough King         65\n",
       "198  Burger King                                     BBQ Bacon King         75\n",
       "203  Burger King                          Double Quarter Pound King         54\n",
       "205  Burger King                                     Farmhouse King         80\n",
       "208  Burger King                             Jalapeno King Sandwich         65\n",
       "209  Burger King                              Mushroom & Swiss King         63\n",
       "211  Burger King                                         Rodeo King         82\n",
       "213  Burger King                              Sourdough King Double         61\n",
       "214  Burger King                                    Steakhouse King         74\n",
       "216  Burger King                          DOUBLE WHOPPER w/o Cheese         57\n",
       "217  Burger King                           DOUBLE WHOPPER w/ Cheese         65\n",
       "223  Burger King  Bacon Cheddar Ranch Chicken Salad w/ crispy Ch...         50\n",
       "234  Burger King        Bacon Cheddar Ranch Crispy Chicken Sandwich         52\n",
       "243  Burger King                           20 Piece Chicken Nuggets         55\n",
       "256  Burger King                             Sourdough Chicken Club         51"
      ]
     },
     "execution_count": 22,
     "metadata": {},
     "output_type": "execute_result"
    }
   ],
   "source": [
    "#A variavel \"ResCal1\" vai mostrar os hamburguers que contêm contêm valores de \"total_fat\" a cima dos 45 no Burger King\n",
    "ff.drop(ff[ff['total_fat'] < 50].index, inplace=True)\n",
    "ResCal1 = ff.loc[192:261, [\"restaurant\", \"item\", \"total_fat\"]]\n",
    "ResCal1"
   ]
  },
  {
   "cell_type": "markdown",
   "metadata": {},
   "source": [
    "Quais são os top (5) itens que contem valores de gordura no Burger king? "
   ]
  },
  {
   "cell_type": "code",
   "execution_count": 23,
   "metadata": {},
   "outputs": [
    {
     "data": {
      "text/plain": [
       "192    126\n",
       "211     82\n",
       "205     80\n",
       "198     75\n",
       "214     74\n",
       "Name: total_fat, dtype: int64"
      ]
     },
     "execution_count": 23,
     "metadata": {},
     "output_type": "execute_result"
    }
   ],
   "source": [
    "#A variavel \"top\" vai mostrar os top 5 hamburguers que contêm mais \"total_fat\" no Burger King\n",
    "res4 = ff.groupby([\"restaurant\"])\n",
    "top = res4[\"total_fat\"].nlargest(5)\n",
    "top[\"Burger King\"]"
   ]
  },
  {
   "cell_type": "markdown",
   "metadata": {},
   "source": [
    "## Burn that Fat!"
   ]
  },
  {
   "cell_type": "markdown",
   "metadata": {},
   "source": [
    "Quais são os top 10 itens mais gordurosos ?"
   ]
  },
  {
   "cell_type": "code",
   "execution_count": 24,
   "metadata": {},
   "outputs": [
    {
     "data": {
      "text/html": [
       "<div>\n",
       "<style scoped>\n",
       "    .dataframe tbody tr th:only-of-type {\n",
       "        vertical-align: middle;\n",
       "    }\n",
       "\n",
       "    .dataframe tbody tr th {\n",
       "        vertical-align: top;\n",
       "    }\n",
       "\n",
       "    .dataframe thead th {\n",
       "        text-align: right;\n",
       "    }\n",
       "</style>\n",
       "<table border=\"1\" class=\"dataframe\">\n",
       "  <thead>\n",
       "    <tr style=\"text-align: right;\">\n",
       "      <th></th>\n",
       "      <th>cal_fat</th>\n",
       "      <th>total_fat</th>\n",
       "      <th>sat_fat</th>\n",
       "      <th>trans_fat</th>\n",
       "    </tr>\n",
       "  </thead>\n",
       "  <tbody>\n",
       "    <tr>\n",
       "      <th>39</th>\n",
       "      <td>1270</td>\n",
       "      <td>141</td>\n",
       "      <td>24.0</td>\n",
       "      <td>2.0</td>\n",
       "    </tr>\n",
       "    <tr>\n",
       "      <th>192</th>\n",
       "      <td>1134</td>\n",
       "      <td>126</td>\n",
       "      <td>47.0</td>\n",
       "      <td>8.0</td>\n",
       "    </tr>\n",
       "    <tr>\n",
       "      <th>44</th>\n",
       "      <td>960</td>\n",
       "      <td>107</td>\n",
       "      <td>18.0</td>\n",
       "      <td>0.5</td>\n",
       "    </tr>\n",
       "    <tr>\n",
       "      <th>115</th>\n",
       "      <td>900</td>\n",
       "      <td>100</td>\n",
       "      <td>17.0</td>\n",
       "      <td>0.0</td>\n",
       "    </tr>\n",
       "    <tr>\n",
       "      <th>98</th>\n",
       "      <td>830</td>\n",
       "      <td>92</td>\n",
       "      <td>36.0</td>\n",
       "      <td>4.0</td>\n",
       "    </tr>\n",
       "    <tr>\n",
       "      <th>38</th>\n",
       "      <td>790</td>\n",
       "      <td>88</td>\n",
       "      <td>15.0</td>\n",
       "      <td>1.0</td>\n",
       "    </tr>\n",
       "    <tr>\n",
       "      <th>101</th>\n",
       "      <td>780</td>\n",
       "      <td>87</td>\n",
       "      <td>34.0</td>\n",
       "      <td>4.0</td>\n",
       "    </tr>\n",
       "    <tr>\n",
       "      <th>211</th>\n",
       "      <td>738</td>\n",
       "      <td>82</td>\n",
       "      <td>31.0</td>\n",
       "      <td>3.5</td>\n",
       "    </tr>\n",
       "    <tr>\n",
       "      <th>205</th>\n",
       "      <td>720</td>\n",
       "      <td>80</td>\n",
       "      <td>28.0</td>\n",
       "      <td>3.0</td>\n",
       "    </tr>\n",
       "    <tr>\n",
       "      <th>99</th>\n",
       "      <td>680</td>\n",
       "      <td>76</td>\n",
       "      <td>32.0</td>\n",
       "      <td>4.0</td>\n",
       "    </tr>\n",
       "  </tbody>\n",
       "</table>\n",
       "</div>"
      ],
      "text/plain": [
       "     cal_fat  total_fat  sat_fat  trans_fat\n",
       "39      1270        141     24.0        2.0\n",
       "192     1134        126     47.0        8.0\n",
       "44       960        107     18.0        0.5\n",
       "115      900        100     17.0        0.0\n",
       "98       830         92     36.0        4.0\n",
       "38       790         88     15.0        1.0\n",
       "101      780         87     34.0        4.0\n",
       "211      738         82     31.0        3.5\n",
       "205      720         80     28.0        3.0\n",
       "99       680         76     32.0        4.0"
      ]
     },
     "execution_count": 24,
     "metadata": {},
     "output_type": "execute_result"
    }
   ],
   "source": [
    "#Mostragem dos top 10 itens mais gordurosos através de um \"sort_values\"\n",
    "ff = ff.sort_values(by=[\"cal_fat\", \"total_fat\", \"sat_fat\", \"trans_fat\"],ascending=[False, False, False, False])[[\"cal_fat\", \"total_fat\", \"sat_fat\",\"trans_fat\"]]\n",
    "ff.head(10)"
   ]
  }
 ],
 "metadata": {
  "kernelspec": {
   "display_name": "Python 3 (ipykernel)",
   "language": "python",
   "name": "python3"
  },
  "language_info": {
   "codemirror_mode": {
    "name": "ipython",
    "version": 3
   },
   "file_extension": ".py",
   "mimetype": "text/x-python",
   "name": "python",
   "nbconvert_exporter": "python",
   "pygments_lexer": "ipython3",
   "version": "3.9.12"
  },
  "toc": {
   "colors": {
    "hover_highlight": "#DAA520",
    "navigate_num": "#000000",
    "navigate_text": "#333333",
    "running_highlight": "#FF0000",
    "selected_highlight": "#FFD700",
    "sidebar_border": "#EEEEEE",
    "wrapper_background": "#FFFFFF"
   },
   "moveMenuLeft": true,
   "nav_menu": {
    "height": "138px",
    "width": "252px"
   },
   "navigate_menu": true,
   "number_sections": true,
   "sideBar": true,
   "threshold": 4,
   "toc_cell": false,
   "toc_section_display": "block",
   "toc_window_display": false,
   "widenNotebook": false
  }
 },
 "nbformat": 4,
 "nbformat_minor": 2
}
